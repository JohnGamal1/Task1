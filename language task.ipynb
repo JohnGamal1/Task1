{
 "cells": [
  {
   "cell_type": "code",
   "execution_count": 1,
   "metadata": {},
   "outputs": [],
   "source": [
    "import random"
   ]
  },
  {
   "cell_type": "code",
   "execution_count": 4,
   "metadata": {},
   "outputs": [],
   "source": [
    "Grades = [\"A+\",\"A\",\"A-\",\"B+\",\"B\",\"B-\",\"C+\",\"C\",\"C-\",\"D\",\"F\"]"
   ]
  },
  {
   "cell_type": "code",
   "execution_count": 30,
   "metadata": {},
   "outputs": [
    {
     "name": "stdout",
     "output_type": "stream",
     "text": [
      "{1750675: 'A+', 1703209: 'C-', 1770012: 'B+', 1728452: 'D', 1789573: 'A-', 1786874: 'B+', 1730651: 'C', 1780822: 'B', 1791305: 'B', 1715093: 'A', 1763280: 'F', 1770281: 'A', 1709035: 'C', 1714436: 'F', 1774623: 'C', 1700195: 'C', 1728964: 'D', 1750898: 'B-', 1740813: 'C', 1700991: 'C'}\n"
     ]
    }
   ],
   "source": [
    "StudentIDs = random.sample(range(1700000, 1800000), 20)\n",
    "StudentsWithGrades = {key: random.choice(Grades) for key in StudentIDs}\n",
    "print (StudentsWithGrades)"
   ]
  }
 ],
 "metadata": {
  "kernelspec": {
   "display_name": "Python 3",
   "language": "python",
   "name": "python3"
  },
  "language_info": {
   "codemirror_mode": {
    "name": "ipython",
    "version": 3
   },
   "file_extension": ".py",
   "mimetype": "text/x-python",
   "name": "python",
   "nbconvert_exporter": "python",
   "pygments_lexer": "ipython3",
   "version": "3.8.5"
  }
 },
 "nbformat": 4,
 "nbformat_minor": 4
}
